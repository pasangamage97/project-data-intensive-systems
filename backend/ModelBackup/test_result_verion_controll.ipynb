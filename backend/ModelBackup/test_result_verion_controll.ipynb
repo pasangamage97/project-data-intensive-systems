{
 "cells": [
  {
   "cell_type": "markdown",
   "metadata": {},
   "source": [
    "| Version | Used Method       | R Squared | MSE    |\n",
    "|---------|-------------------|-----------|--------|\n",
    "| 1.0     | Linear regression | 0.61637   | 0.0229 |\n",
    "| 2.0     | Linear regression | 0.61700   | 0.0228 |\n",
    "| 3.0     | Linear regression | 0.62206   | 0.0225 |\n",
    "| 4.0     | Linear regression | 0.64677   | 0.0210 |"
   ]
  }
 ],
 "metadata": {
  "language_info": {
   "name": "python"
  }
 },
 "nbformat": 4,
 "nbformat_minor": 2
}
